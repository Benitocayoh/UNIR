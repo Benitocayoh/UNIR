{
 "cells": [
  {
   "cell_type": "code",
   "execution_count": 1,
   "id": "ca0bdb4b-553b-4098-b173-25552bfc7c8f",
   "metadata": {},
   "outputs": [],
   "source": [
    "class Producto:\n",
    "    def __init__(self, nombre, precio, cantidad):\n",
    "        if not nombre.strip():\n",
    "            raise ValueError(\"El nombre del producto no puede estar vacío.\")\n",
    "        if precio <= 0:\n",
    "            raise ValueError(\"El precio debe ser mayor que 0.\")\n",
    "        if cantidad < 0:\n",
    "            raise ValueError(\"La cantidad no puede ser negativa.\")\n",
    "        self.nombre = nombre\n",
    "        self.precio = precio\n",
    "        self.cantidad = cantidad\n",
    "\n",
    "    def actualizar(self, nombre=None, precio=None, cantidad=None):\n",
    "        \"\"\"Actualiza los atributos del producto con validación\"\"\"\n",
    "        if nombre is not None:\n",
    "            if not nombre.strip():\n",
    "                raise ValueError(\"El nombre no puede estar vacío.\")\n",
    "            self.nombre = nombre\n",
    "        if precio is not None:\n",
    "            if precio <= 0:\n",
    "                raise ValueError(\"El precio debe ser mayor que 0.\")\n",
    "            self.precio = precio\n",
    "        if cantidad is not None:\n",
    "            if cantidad < 0:\n",
    "                raise ValueError(\"La cantidad no puede ser negativa.\")\n",
    "            self.cantidad = cantidad\n",
    "\n",
    "    def mostrar_info(self):\n",
    "        \"\"\"Muestra los detalles del producto\"\"\"\n",
    "        return f\"Producto: {self.nombre}, Precio: {self.precio:.2f}, Cantidad: {self.cantidad}\"\n",
    "\n",
    "    @classmethod\n",
    "    def crear_producto(cls):\n",
    "        \"\"\"Crea un producto pidiendo datos al usuario, con validación\"\"\"\n",
    "        try:\n",
    "            nombre = input(\"Ingrese el nombre del producto: \").strip()\n",
    "            if not nombre:\n",
    "                raise ValueError(\"El nombre no puede estar vacío.\")\n",
    "\n",
    "            precio = float(input(\"Ingrese el precio: \"))\n",
    "            if precio <= 0:\n",
    "                raise ValueError(\"El precio debe ser mayor que 0.\")\n",
    "\n",
    "            cantidad = int(input(\"Ingrese la cantidad: \"))\n",
    "            if cantidad < 0:\n",
    "                raise ValueError(\"La cantidad no puede ser negativa.\")\n",
    "\n",
    "            return cls(nombre, precio, cantidad)\n",
    "\n",
    "        except ValueError as e:\n",
    "            print(f\"Error: {e}\")\n",
    "            return None  # No se crea el producto si hay error"
   ]
  },
  {
   "cell_type": "code",
   "execution_count": 16,
   "id": "743ad6c5-30a9-47b6-b4ca-0ed97233bb80",
   "metadata": {},
   "outputs": [],
   "source": [
    "p1.actualizar(precio=3200.0, cantidad=11)"
   ]
  },
  {
   "cell_type": "code",
   "execution_count": 5,
   "id": "83a7c43a-2cd2-45c8-998d-233c9b651a32",
   "metadata": {},
   "outputs": [],
   "source": [
    "class Inventario:\n",
    "    def __init__(self):\n",
    "        self.productos = []\n",
    "\n",
    "    def añadir_producto(self, producto):\n",
    "        \"\"\"Agrega un nuevo producto al inventario\"\"\"\n",
    "        self.productos.append(producto)\n",
    "\n",
    "    def mostrar_inventario(self):\n",
    "        \"\"\"Muestra todos los productos\"\"\"\n",
    "        if not self.productos:\n",
    "            print(\"Inventario vacío\")\n",
    "        else:\n",
    "            for p in self.productos:\n",
    "                print(p.mostrar_info())\n",
    "\n",
    "    def buscar_producto(self, nombre):\n",
    "        \"\"\"Busca un producto por nombre (case-insensitive)\"\"\"\n",
    "        for producto in self.productos:\n",
    "            if producto.nombre.lower() == nombre.lower():\n",
    "                return producto\n",
    "        return None\n",
    "\n",
    "    def eliminar_producto(self, nombre):\n",
    "        \"\"\"Elimina un producto por nombre\"\"\"\n",
    "        producto = self.buscar_producto(nombre)\n",
    "        if producto:\n",
    "            self.productos.remove(producto)\n",
    "            return True\n",
    "        return False\n",
    "\n",
    "    def valor_total(self):\n",
    "        \"\"\"Calcula el valor total del inventario\"\"\"\n",
    "        total = sum(p.precio * p.cantidad for p in self.productos)\n",
    "        return total\n",
    "\n",
    "    "
   ]
  },
  {
   "cell_type": "code",
   "execution_count": 22,
   "id": "e8f43f08-dae2-439f-8bd2-4b621e7910ae",
   "metadata": {},
   "outputs": [
    {
     "name": "stdout",
     "output_type": "stream",
     "text": [
      "Producto: Laptop, Precio: 3200.00, Cantidad: 11\n",
      "Producto: Mouse, Precio: 50.00, Cantidad: 100\n"
     ]
    }
   ],
   "source": [
    "inventario=Inventario()\n",
    "inventario.añadir_producto(p1)\n",
    "inventario.añadir_producto(p2)\n",
    "inventario.mostrar_inventario()"
   ]
  },
  {
   "cell_type": "code",
   "execution_count": 52,
   "id": "fe8750d3-f00f-40c5-8233-f7e93d994443",
   "metadata": {},
   "outputs": [
    {
     "name": "stdout",
     "output_type": "stream",
     "text": [
      "Producto encontrado\n",
      "Nombre:Laptop - Precio: 3200.0\n"
     ]
    }
   ],
   "source": [
    "buscado = inventario.buscar_producto(\"laptop\")\n",
    "if buscado :\n",
    "   print(\"Producto encontrado\") \n",
    "   print(f\"Nombre:{buscado.nombre} - Precio: {buscado.precio}\") \n",
    "   buscado.mostrar_info()\n",
    "else:\n",
    "    print(\"Producto no encontrado\")"
   ]
  },
  {
   "cell_type": "code",
   "execution_count": 50,
   "id": "bd103058-d77f-48ba-96fc-d6856250e7f0",
   "metadata": {},
   "outputs": [
    {
     "name": "stdout",
     "output_type": "stream",
     "text": [
      "Encontrado:Laptop - Precio: 3200.0\n"
     ]
    }
   ],
   "source": [
    "if buscado:\n",
    "   print(f\"Encontrado:{buscado.nombre} - Precio: {buscado.precio}\")"
   ]
  },
  {
   "cell_type": "code",
   "execution_count": 41,
   "id": "d01db40e-8210-4bb8-84bc-f9d1d6e5a706",
   "metadata": {},
   "outputs": [
    {
     "data": {
      "text/plain": [
       "'Producto: Laptop, Precio: 3200.00, Cantidad: 11'"
      ]
     },
     "execution_count": 41,
     "metadata": {},
     "output_type": "execute_result"
    }
   ],
   "source": [
    "buscado.mostrar_info()"
   ]
  },
  {
   "cell_type": "code",
   "execution_count": 53,
   "id": "09182023-d2e9-45f8-ac80-ccf5cec51303",
   "metadata": {},
   "outputs": [
    {
     "data": {
      "text/plain": [
       "40200.0"
      ]
     },
     "execution_count": 53,
     "metadata": {},
     "output_type": "execute_result"
    }
   ],
   "source": [
    "inventario.valor_total()"
   ]
  },
  {
   "cell_type": "code",
   "execution_count": null,
   "id": "888808c1-6b5c-46fa-bc6e-9cd99c9c641e",
   "metadata": {},
   "outputs": [
    {
     "name": "stdout",
     "output_type": "stream",
     "text": [
      "\n",
      "--- MENÚ INVENTARIO ---\n",
      "1. Agregar producto\n",
      "2. Mostrar todos los productos\n",
      "3. Buscar producto por nombre\n",
      "4. Calcular valor total del inventario\n",
      "5. Actualizar producto\n",
      "6. Eliminar producto\n",
      "7. Salir\n"
     ]
    },
    {
     "name": "stdin",
     "output_type": "stream",
     "text": [
      "Seleccione una opción:  2\n"
     ]
    },
    {
     "name": "stdout",
     "output_type": "stream",
     "text": [
      "Inventario vacío\n",
      "\n",
      "--- MENÚ INVENTARIO ---\n",
      "1. Agregar producto\n",
      "2. Mostrar todos los productos\n",
      "3. Buscar producto por nombre\n",
      "4. Calcular valor total del inventario\n",
      "5. Actualizar producto\n",
      "6. Eliminar producto\n",
      "7. Salir\n"
     ]
    },
    {
     "name": "stdin",
     "output_type": "stream",
     "text": [
      "Seleccione una opción:  1\n",
      "Ingrese el nombre del producto:  camisa\n",
      "Ingrese el precio:  56\n",
      "Ingrese la cantidad:  123\n"
     ]
    },
    {
     "name": "stdout",
     "output_type": "stream",
     "text": [
      "\n",
      "--- MENÚ INVENTARIO ---\n",
      "1. Agregar producto\n",
      "2. Mostrar todos los productos\n",
      "3. Buscar producto por nombre\n",
      "4. Calcular valor total del inventario\n",
      "5. Actualizar producto\n",
      "6. Eliminar producto\n",
      "7. Salir\n"
     ]
    },
    {
     "name": "stdin",
     "output_type": "stream",
     "text": [
      "Seleccione una opción:  1\n",
      "Ingrese el nombre del producto:  medias\n",
      "Ingrese el precio:  13\n",
      "Ingrese la cantidad:  154\n"
     ]
    },
    {
     "name": "stdout",
     "output_type": "stream",
     "text": [
      "\n",
      "--- MENÚ INVENTARIO ---\n",
      "1. Agregar producto\n",
      "2. Mostrar todos los productos\n",
      "3. Buscar producto por nombre\n",
      "4. Calcular valor total del inventario\n",
      "5. Actualizar producto\n",
      "6. Eliminar producto\n",
      "7. Salir\n"
     ]
    },
    {
     "name": "stdin",
     "output_type": "stream",
     "text": [
      "Seleccione una opción:  2\n"
     ]
    },
    {
     "name": "stdout",
     "output_type": "stream",
     "text": [
      "Producto: camisa, Precio: 56.00, Cantidad: 123\n",
      "Producto: medias, Precio: 13.00, Cantidad: 154\n",
      "\n",
      "--- MENÚ INVENTARIO ---\n",
      "1. Agregar producto\n",
      "2. Mostrar todos los productos\n",
      "3. Buscar producto por nombre\n",
      "4. Calcular valor total del inventario\n",
      "5. Actualizar producto\n",
      "6. Eliminar producto\n",
      "7. Salir\n"
     ]
    },
    {
     "name": "stdin",
     "output_type": "stream",
     "text": [
      "Seleccione una opción:  1\n",
      "Ingrese el nombre del producto:  reloj\n",
      "Ingrese el precio:  400\n",
      "Ingrese la cantidad:  13\n"
     ]
    },
    {
     "name": "stdout",
     "output_type": "stream",
     "text": [
      "\n",
      "--- MENÚ INVENTARIO ---\n",
      "1. Agregar producto\n",
      "2. Mostrar todos los productos\n",
      "3. Buscar producto por nombre\n",
      "4. Calcular valor total del inventario\n",
      "5. Actualizar producto\n",
      "6. Eliminar producto\n",
      "7. Salir\n"
     ]
    },
    {
     "name": "stdin",
     "output_type": "stream",
     "text": [
      "Seleccione una opción:  2\n"
     ]
    },
    {
     "name": "stdout",
     "output_type": "stream",
     "text": [
      "Producto: camisa, Precio: 56.00, Cantidad: 123\n",
      "Producto: medias, Precio: 13.00, Cantidad: 154\n",
      "Producto: reloj, Precio: 400.00, Cantidad: 13\n",
      "\n",
      "--- MENÚ INVENTARIO ---\n",
      "1. Agregar producto\n",
      "2. Mostrar todos los productos\n",
      "3. Buscar producto por nombre\n",
      "4. Calcular valor total del inventario\n",
      "5. Actualizar producto\n",
      "6. Eliminar producto\n",
      "7. Salir\n"
     ]
    },
    {
     "name": "stdin",
     "output_type": "stream",
     "text": [
      "Seleccione una opción:  5\n",
      "Ingrese el nombre del producto a actualizar:  reloj\n"
     ]
    },
    {
     "name": "stdout",
     "output_type": "stream",
     "text": [
      "Producto encontrado. Deje en blanco si no desea modificar ese campo.\n"
     ]
    },
    {
     "name": "stdin",
     "output_type": "stream",
     "text": [
      "Nuevo nombre (enter para no cambiar):  \n",
      "Nuevo precio (enter para no cambiar):  350\n",
      "Nueva cantidad (enter para no cambiar):  12\n"
     ]
    },
    {
     "name": "stdout",
     "output_type": "stream",
     "text": [
      "✅ Producto actualizado correctamente.\n",
      "\n",
      "--- MENÚ INVENTARIO ---\n",
      "1. Agregar producto\n",
      "2. Mostrar todos los productos\n",
      "3. Buscar producto por nombre\n",
      "4. Calcular valor total del inventario\n",
      "5. Actualizar producto\n",
      "6. Eliminar producto\n",
      "7. Salir\n"
     ]
    },
    {
     "name": "stdin",
     "output_type": "stream",
     "text": [
      "Seleccione una opción:  2\n"
     ]
    },
    {
     "name": "stdout",
     "output_type": "stream",
     "text": [
      "Producto: camisa, Precio: 56.00, Cantidad: 123\n",
      "Producto: medias, Precio: 13.00, Cantidad: 154\n",
      "Producto: reloj, Precio: 350.00, Cantidad: 12\n",
      "\n",
      "--- MENÚ INVENTARIO ---\n",
      "1. Agregar producto\n",
      "2. Mostrar todos los productos\n",
      "3. Buscar producto por nombre\n",
      "4. Calcular valor total del inventario\n",
      "5. Actualizar producto\n",
      "6. Eliminar producto\n",
      "7. Salir\n"
     ]
    },
    {
     "name": "stdin",
     "output_type": "stream",
     "text": [
      "Seleccione una opción:  3\n",
      "Ingrese el nombre del producto a buscar:  reLOJ\n"
     ]
    },
    {
     "name": "stdout",
     "output_type": "stream",
     "text": [
      "✅ Producto encontrado:\n",
      "Encontrado:reloj - Precio: 350.0\n",
      "\n",
      "--- MENÚ INVENTARIO ---\n",
      "1. Agregar producto\n",
      "2. Mostrar todos los productos\n",
      "3. Buscar producto por nombre\n",
      "4. Calcular valor total del inventario\n",
      "5. Actualizar producto\n",
      "6. Eliminar producto\n",
      "7. Salir\n"
     ]
    },
    {
     "name": "stdin",
     "output_type": "stream",
     "text": [
      "Seleccione una opción:  4\n"
     ]
    },
    {
     "name": "stdout",
     "output_type": "stream",
     "text": [
      "💰 Valor total del inventario: 13090.0\n",
      "\n",
      "--- MENÚ INVENTARIO ---\n",
      "1. Agregar producto\n",
      "2. Mostrar todos los productos\n",
      "3. Buscar producto por nombre\n",
      "4. Calcular valor total del inventario\n",
      "5. Actualizar producto\n",
      "6. Eliminar producto\n",
      "7. Salir\n"
     ]
    },
    {
     "name": "stdin",
     "output_type": "stream",
     "text": [
      "Seleccione una opción:  6\n",
      "Ingrese el nombre del producto a eliminar:  RELOJ\n"
     ]
    },
    {
     "name": "stdout",
     "output_type": "stream",
     "text": [
      "🗑️ Producto eliminado correctamente.\n",
      "\n",
      "--- MENÚ INVENTARIO ---\n",
      "1. Agregar producto\n",
      "2. Mostrar todos los productos\n",
      "3. Buscar producto por nombre\n",
      "4. Calcular valor total del inventario\n",
      "5. Actualizar producto\n",
      "6. Eliminar producto\n",
      "7. Salir\n"
     ]
    },
    {
     "name": "stdin",
     "output_type": "stream",
     "text": [
      "Seleccione una opción:  2\n"
     ]
    },
    {
     "name": "stdout",
     "output_type": "stream",
     "text": [
      "Producto: camisa, Precio: 56.00, Cantidad: 123\n",
      "Producto: medias, Precio: 13.00, Cantidad: 154\n",
      "\n",
      "--- MENÚ INVENTARIO ---\n",
      "1. Agregar producto\n",
      "2. Mostrar todos los productos\n",
      "3. Buscar producto por nombre\n",
      "4. Calcular valor total del inventario\n",
      "5. Actualizar producto\n",
      "6. Eliminar producto\n",
      "7. Salir\n"
     ]
    }
   ],
   "source": [
    "# -------- Menú interactivo ----------\n",
    "def menu():\n",
    "    inv = Inventario()\n",
    "\n",
    "    while True:\n",
    "        print(\"\\n--- MENÚ INVENTARIO ---\")\n",
    "        print(\"1. Agregar producto\")\n",
    "        print(\"2. Mostrar todos los productos\")\n",
    "        print(\"3. Buscar producto por nombre\")\n",
    "        print(\"4. Calcular valor total del inventario\")\n",
    "        print(\"5. Actualizar producto\")\n",
    "        print(\"6. Eliminar producto\")\n",
    "        print(\"7. Salir\")\n",
    "\n",
    "        opcion = input(\"Seleccione una opción: \")\n",
    "\n",
    "        if opcion == \"1\":\n",
    "            producto = Producto.crear_producto()\n",
    "            inv.añadir_producto(producto)\n",
    "\n",
    "        elif opcion == \"2\":\n",
    "            inv.mostrar_inventario()\n",
    "\n",
    "        elif opcion == \"3\":\n",
    "            nombre = input(\"Ingrese el nombre del producto a buscar: \")\n",
    "            encontrado = inv.buscar_producto(nombre)\n",
    "            if encontrado:\n",
    "                print(\"✅ Producto encontrado:\")\n",
    "                print(f\"Encontrado:{encontrado.nombre} - Precio: {encontrado.precio}\")\n",
    "                encontrado.mostrar_info()\n",
    "            else:\n",
    "                print(\"❌ Producto no encontrado.\")\n",
    "\n",
    "        elif opcion == \"4\":\n",
    "            print(f\"💰 Valor total del inventario: {inv.valor_total()}\")\n",
    "\n",
    "        elif opcion == \"5\":\n",
    "            nombre = input(\"Ingrese el nombre del producto a actualizar: \")\n",
    "            producto = inv.buscar_producto(nombre)\n",
    "            if producto:\n",
    "                print(\"Producto encontrado. Deje en blanco si no desea modificar ese campo.\")\n",
    "                nuevo_nombre = input(\"Nuevo nombre (enter para no cambiar): \").strip()\n",
    "                nuevo_precio = input(\"Nuevo precio (enter para no cambiar): \").strip()\n",
    "                nueva_cantidad = input(\"Nueva cantidad (enter para no cambiar): \").strip()\n",
    "\n",
    "                try:\n",
    "                    producto.actualizar(\n",
    "                        nombre=nuevo_nombre if nuevo_nombre else None,\n",
    "                        precio=float(nuevo_precio) if nuevo_precio else None,\n",
    "                        cantidad=int(nueva_cantidad) if nueva_cantidad else None\n",
    "                    )\n",
    "                    print(\"✅ Producto actualizado correctamente.\")\n",
    "                except ValueError as e:\n",
    "                    print(f\"Error: {e}\")\n",
    "            else:\n",
    "                print(\"❌ Producto no encontrado.\")\n",
    "\n",
    "        elif opcion == \"6\":\n",
    "            nombre = input(\"Ingrese el nombre del producto a eliminar: \")\n",
    "            if inv.eliminar_producto(nombre):\n",
    "                print(\"🗑️ Producto eliminado correctamente.\")\n",
    "            else:\n",
    "                print(\"❌ Producto no encontrado.\")\n",
    "\n",
    "        elif opcion == \"7\":\n",
    "            print(\"Saliendo del programa... 👋\")\n",
    "            break\n",
    "\n",
    "        else:\n",
    "            print(\"⚠️ Opción no válida. Intente de nuevo.\")\n",
    "\n",
    "\n",
    "# Ejecutar menú\n",
    "if __name__ == \"__main__\":\n",
    "    menu()"
   ]
  }
 ],
 "metadata": {
  "kernelspec": {
   "display_name": "Python 3 (ipykernel)",
   "language": "python",
   "name": "python3"
  },
  "language_info": {
   "codemirror_mode": {
    "name": "ipython",
    "version": 3
   },
   "file_extension": ".py",
   "mimetype": "text/x-python",
   "name": "python",
   "nbconvert_exporter": "python",
   "pygments_lexer": "ipython3",
   "version": "3.11.7"
  }
 },
 "nbformat": 4,
 "nbformat_minor": 5
}
