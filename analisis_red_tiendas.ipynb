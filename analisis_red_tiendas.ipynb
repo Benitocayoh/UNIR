{
 "cells": [
  {
   "cell_type": "code",
   "execution_count": 10,
   "id": "cd96635f-db77-48df-aebe-81a8da9873b5",
   "metadata": {},
   "outputs": [
    {
     "name": "stdout",
     "output_type": "stream",
     "text": [
      "   ID_Tienda    Producto  Stock_Disponible Fecha_Actualización\n",
      "0          1  Producto A                50          2023-01-05\n",
      "1          1  Producto B                40          2023-01-06\n",
      "2          2  Producto A                60          2023-01-07\n",
      "3          2  Producto C                45          2023-01-08\n",
      "4          3  Producto A                30          2023-01-09\n",
      "   ID_Tienda    Producto  Cantidad_Vendida  Precio_Unitario Fecha_Venta\n",
      "0          1  Producto A                20              100  2023-01-05\n",
      "1          1  Producto B                15              200  2023-01-06\n",
      "2          2  Producto A                30              100  2023-01-07\n",
      "3          2  Producto C                25              300  2023-01-08\n",
      "4          3  Producto A                10              100  2023-01-09\n",
      "   ID_Tienda  Satisfacción_Promedio Fecha_Evaluación\n",
      "0          1                     85       2023-01-15\n",
      "1          2                     90       2023-01-15\n",
      "2          3                     70       2023-01-15\n",
      "3          4                     65       2023-01-15\n",
      "4          5                     55       2023-01-15\n"
     ]
    }
   ],
   "source": [
    "import pandas as pd\n",
    "import matplotlib.pyplot as plt\n",
    "\n",
    "# 1. Cargar el archivo CSV\n",
    "df_inv = pd.read_csv(\"data/inventories.csv\")\n",
    "df_sales = pd.read_csv(\"data/sales.csv\")\n",
    "df_sat = pd.read_csv(\"data/satisfaction.csv\")\n",
    "\n",
    "\n",
    "\n",
    "# 2. Ver las primeras filas para confirmar la carga\n",
    "print(df_inv.head())\n",
    "print(df_sales.head())\n",
    "print(df_sat.head())\n"
   ]
  },
  {
   "cell_type": "code",
   "execution_count": null,
   "id": "a6e7bccc-52f5-41cc-b262-7e95b2a45ec7",
   "metadata": {},
   "outputs": [],
   "source": []
  },
  {
   "cell_type": "code",
   "execution_count": null,
   "id": "9a27112d-168f-449e-8b1a-ffe79c524d02",
   "metadata": {},
   "outputs": [],
   "source": []
  },
  {
   "cell_type": "code",
   "execution_count": 5,
   "id": "24da10da-eaef-4dad-be09-dc61b30d3f03",
   "metadata": {},
   "outputs": [
    {
     "name": "stdout",
     "output_type": "stream",
     "text": [
      "\n",
      "[Limpieza] Eliminando filas con valores nulos (dropna)...\n",
      " - Sales: 10 -> 10 filas\n",
      " - Inventories: 10 -> 10 filas\n",
      " - Satisfaction: 5 -> 5 filas\n"
     ]
    }
   ],
   "source": [
    "# ---------------------------\n",
    "# Paso 2: Limpieza inicial - eliminar filas con nulos\n",
    "# ---------------------------\n",
    "print(\"\\n[Limpieza] Eliminando filas con valores nulos (dropna)...\")\n",
    "df_sales_clean = df_sales.dropna(how=\"any\").reset_index(drop=True)\n",
    "df_inv_clean = df_inv.dropna(how=\"any\").reset_index(drop=True)\n",
    "df_sat_clean = df_sat.dropna(how=\"any\").reset_index(drop=True)\n",
    "\n",
    "print(f\" - Sales: {df_sales.shape[0]} -> {df_sales_clean.shape[0]} filas\")\n",
    "print(f\" - Inventories: {df_inv.shape[0]} -> {df_inv_clean.shape[0]} filas\")\n",
    "print(f\" - Satisfaction: {df_sat.shape[0]} -> {df_sat_clean.shape[0]} filas\")"
   ]
  },
  {
   "cell_type": "code",
   "execution_count": 6,
   "id": "693bc0c2-8eb3-4e45-8291-b20fabd6b839",
   "metadata": {},
   "outputs": [],
   "source": [
    "import sys\n",
    "import os\n",
    "import numpy as np\n"
   ]
  },
  {
   "cell_type": "code",
   "execution_count": 11,
   "id": "d5693557-2623-450a-8d37-ddc6a47c42f2",
   "metadata": {},
   "outputs": [],
   "source": [
    "# Para mostrar tablas más amenas en Jupyter\n",
    "pd.set_option(\"display.max_columns\", 50)\n",
    "pd.set_option(\"display.width\", 120)"
   ]
  },
  {
   "cell_type": "code",
   "execution_count": 13,
   "id": "be0711da-3da7-44ff-857b-c0b4b48a93c6",
   "metadata": {},
   "outputs": [
    {
     "name": "stdout",
     "output_type": "stream",
     "text": [
      "\n",
      "Shapes después dropna:\n",
      " sales: (10, 5)\n",
      " inventories: (10, 4)\n",
      " satisfaction: (5, 3)\n"
     ]
    }
   ],
   "source": [
    "print(\"\\nShapes después dropna:\")\n",
    "print(\" sales:\", df_sales.shape)\n",
    "print(\" inventories:\", df_inv.shape)\n",
    "print(\" satisfaction:\", df_sat.shape)"
   ]
  },
  {
   "cell_type": "code",
   "execution_count": 14,
   "id": "943fd742-c25c-43ba-aed1-e1d10a3ac0ab",
   "metadata": {},
   "outputs": [
    {
     "name": "stdout",
     "output_type": "stream",
     "text": [
      "Ventas totales por producto:\n",
      "     Producto  Cantidad_Vendida\n",
      "0  Producto A                85\n",
      "1  Producto B                75\n",
      "2  Producto C                90\n",
      "Ventas totales por tienda:\n",
      "   ID_Tienda  Cantidad_Vendida\n",
      "0          1                35\n",
      "1          2                55\n",
      "2          3                50\n",
      "3          4                60\n",
      "4          5                50\n"
     ]
    }
   ],
   "source": [
    "# Ventas totales por producto\n",
    "ventas_por_producto = df_sales.groupby(\"Producto\")[\"Cantidad_Vendida\"].sum().reset_index()\n",
    "\n",
    "print(\"Ventas totales por producto:\")\n",
    "print(ventas_por_producto)\n",
    "\n",
    "# Ventas totales por tienda\n",
    "ventas_por_tienda = df_sales.groupby(\"ID_Tienda\")[\"Cantidad_Vendida\"].sum().reset_index()\n",
    "\n",
    "print(\"Ventas totales por tienda:\")\n",
    "print(ventas_por_tienda)\n",
    "\n"
   ]
  },
  {
   "cell_type": "code",
   "execution_count": 17,
   "id": "37a501bb-7a6d-4394-b4c9-a60d6f1d63d6",
   "metadata": {},
   "outputs": [
    {
     "name": "stdout",
     "output_type": "stream",
     "text": [
      "Resumen estadístico básico de las ventas:\n",
      "count    10.000000\n",
      "mean     25.000000\n",
      "std       9.128709\n",
      "min      10.000000\n",
      "25%      20.000000\n",
      "50%      25.000000\n",
      "75%      30.000000\n",
      "max      40.000000\n",
      "Name: Cantidad_Vendida, dtype: float64\n",
      "\n",
      "Métricas adicionales:\n",
      "Mediana de las ventas: 25.0\n",
      "Varianza de las ventas: 83.33333333333333\n",
      "Desviación estándar de las ventas: 9.128709291752768\n",
      "Total de ventas registradas: 250\n"
     ]
    }
   ],
   "source": [
    "# Resumen estadístico básico con describe()\n",
    "resumen_ventas = df_sales[\"Cantidad_Vendida\"].describe()\n",
    "\n",
    "print(\"Resumen estadístico básico de las ventas:\")\n",
    "print(resumen_ventas)\n",
    "\n",
    "# Métricas adicionales\n",
    "mediana_ventas = df_sales[\"Cantidad_Vendida\"].median()\n",
    "varianza_ventas = df_sales[\"Cantidad_Vendida\"].var()\n",
    "desviacion_std = df_sales[\"Cantidad_Vendida\"].std()\n",
    "total_ventas = df_sales[\"Cantidad_Vendida\"].sum()\n",
    "\n",
    "print(\"\\nMétricas adicionales:\")\n",
    "print(f\"Mediana de las ventas: {mediana_ventas}\")\n",
    "print(f\"Varianza de las ventas: {varianza_ventas}\")\n",
    "print(f\"Desviación estándar de las ventas: {desviacion_std}\")\n",
    "print(f\"Total de ventas registradas: {total_ventas}\")"
   ]
  },
  {
   "cell_type": "code",
   "execution_count": 18,
   "id": "f157f6a0-93fa-406d-ab05-21b493c303c0",
   "metadata": {},
   "outputs": [
    {
     "name": "stdout",
     "output_type": "stream",
     "text": [
      "Promedio de ventas por tienda y categoría de producto:\n",
      "   ID_Tienda    Producto  Cantidad_Vendida\n",
      "0          1  Producto A              20.0\n",
      "1          1  Producto B              15.0\n",
      "2          2  Producto A              30.0\n",
      "3          2  Producto C              25.0\n",
      "4          3  Producto A              10.0\n",
      "5          3  Producto B              40.0\n",
      "6          4  Producto A              25.0\n",
      "7          4  Producto C              35.0\n",
      "8          5  Producto B              20.0\n",
      "9          5  Producto C              30.0\n"
     ]
    }
   ],
   "source": [
    "# Promedio de ventas por tienda y categoría\n",
    "promedio_ventas_tienda_categoria = (\n",
    "    df_sales.groupby([\"ID_Tienda\", \"Producto\"])[\"Cantidad_Vendida\"]\n",
    "    .mean()\n",
    "    .reset_index()\n",
    ")\n",
    "\n",
    "print(\"Promedio de ventas por tienda y categoría de producto:\")\n",
    "print(promedio_ventas_tienda_categoria)"
   ]
  },
  {
   "cell_type": "code",
   "execution_count": 16,
   "id": "9723f136-2a60-4e6b-9755-70dbe42ad6fd",
   "metadata": {},
   "outputs": [
    {
     "name": "stdout",
     "output_type": "stream",
     "text": [
      "Ventas totales por tienda:\n",
      "   ID_Tienda  Total_Venta\n",
      "3          4        13000\n",
      "4          5        13000\n",
      "1          2        10500\n",
      "2          3         9000\n",
      "0          1         5000\n"
     ]
    }
   ],
   "source": [
    "# Crear columna de ventas totales por fila\n",
    "sales[\"Total_Venta\"] = sales[\"Cantidad_Vendida\"] * sales[\"Precio_Unitario\"]\n",
    "\n",
    "# Ventas totales por tienda\n",
    "ventas_por_tienda = (\n",
    "    sales.groupby(\"ID_Tienda\")[\"Total_Venta\"]\n",
    "    .sum()\n",
    "    .reset_index()\n",
    "    .sort_values(by=\"Total_Venta\", ascending=False)\n",
    ")\n",
    "\n",
    "print(\"Ventas totales por tienda:\")\n",
    "print(ventas_por_tienda)\n"
   ]
  },
  {
   "cell_type": "code",
   "execution_count": 19,
   "id": "afcb4755-2f31-47c6-9d47-d8ae61cdb3b7",
   "metadata": {},
   "outputs": [
    {
     "name": "stdout",
     "output_type": "stream",
     "text": [
      "Ventas totales por producto:\n",
      "     Producto  Total_Venta\n",
      "2  Producto C        27000\n",
      "1  Producto B        15000\n",
      "0  Producto A         8500\n"
     ]
    }
   ],
   "source": [
    "# Crear columna de ventas totales por fila\n",
    "df_sales[\"Total_Venta\"] = df_sales[\"Cantidad_Vendida\"] * df_sales[\"Precio_Unitario\"]\n",
    "\n",
    "# Ventas totales por tienda\n",
    "ventas_por_producto = (\n",
    "    df_sales.groupby(\"Producto\")[\"Total_Venta\"]\n",
    "    .sum()\n",
    "    .reset_index()\n",
    "    .sort_values(by=\"Total_Venta\", ascending=False)\n",
    ")\n",
    "\n",
    "print(\"Ventas totales por producto:\")\n",
    "print(ventas_por_producto)"
   ]
  },
  {
   "cell_type": "code",
   "execution_count": 21,
   "id": "f5482359-ddd8-411b-a300-cb91b2ec5918",
   "metadata": {},
   "outputs": [
    {
     "name": "stdout",
     "output_type": "stream",
     "text": [
      "Rotación de inventarios por tienda y producto:\n",
      "   ID_Tienda    Producto  Total_Venta  Stock_Disponible  Rotacion_Inventario\n",
      "0          1  Producto A         2000                50            40.000000\n",
      "1          1  Producto B         3000                40            75.000000\n",
      "2          2  Producto A         3000                60            50.000000\n",
      "3          2  Producto C         7500                45           166.666667\n",
      "4          3  Producto A         1000                30            33.333333\n"
     ]
    }
   ],
   "source": [
    "import pandas as pd\n",
    "\n",
    "# 1. Crear columna de ventas totales en df_sales\n",
    "df_sales[\"Total_Venta\"] = df_sales[\"Cantidad_Vendida\"] * df_sales[\"Precio_Unitario\"]\n",
    "\n",
    "# 2. Agrupar ventas por Tienda y Producto\n",
    "ventas_agrupadas = (\n",
    "    df_sales.groupby([\"ID_Tienda\", \"Producto\"])[\"Total_Venta\"]\n",
    "    .sum()\n",
    "    .reset_index()\n",
    ")\n",
    "\n",
    "# 3. Combinar con inventarios\n",
    "df_rotacion = pd.merge(\n",
    "    ventas_agrupadas,\n",
    "    df_inv[[\"ID_Tienda\", \"Producto\", \"Stock_Disponible\"]],\n",
    "    on=[\"ID_Tienda\", \"Producto\"],\n",
    "    how=\"inner\"\n",
    ")\n",
    "\n",
    "# 4. Calcular rotación de inventarios\n",
    "df_rotacion[\"Rotacion_Inventario\"] = df_rotacion[\"Total_Venta\"] / df_rotacion[\"Stock_Disponible\"]\n",
    "\n",
    "print(\"Rotación de inventarios por tienda y producto:\")\n",
    "print(df_rotacion.head())\n"
   ]
  },
  {
   "cell_type": "code",
   "execution_count": 26,
   "id": "74208a12-a302-4618-8c14-2eebbb739394",
   "metadata": {},
   "outputs": [
    {
     "name": "stdout",
     "output_type": "stream",
     "text": [
      "Inventarios con columna de rotación:\n",
      "   ID_Tienda    Producto  Stock_Disponible Fecha_Actualización  Total_Venta  Rotacion_Inventario\n",
      "0          1  Producto A                50          2023-01-05         2000            40.000000\n",
      "1          1  Producto B                40          2023-01-06         3000            75.000000\n",
      "2          2  Producto A                60          2023-01-07         3000            50.000000\n",
      "3          2  Producto C                45          2023-01-08         7500           166.666667\n",
      "4          3  Producto A                30          2023-01-09         1000            33.333333\n"
     ]
    }
   ],
   "source": [
    "# 1. Crear columna de ventas totales en df_sales\n",
    "df_sales[\"Total_Venta\"] = df_sales[\"Cantidad_Vendida\"] * df_sales[\"Precio_Unitario\"]\n",
    "\n",
    "# 2. Agrupar ventas por tienda y producto\n",
    "ventas_agrupadas = (\n",
    "    df_sales.groupby([\"ID_Tienda\", \"Producto\"])[\"Total_Venta\"]\n",
    "    .sum()\n",
    "    .reset_index()\n",
    ")\n",
    "\n",
    "# 3. Unir ventas con inventarios\n",
    "df_inv = pd.merge(\n",
    "    df_inv,\n",
    "    ventas_agrupadas,\n",
    "    on=[\"ID_Tienda\", \"Producto\"],\n",
    "    how=\"left\"\n",
    ")\n",
    "\n",
    "# 4. Calcular rotación de inventarios\n",
    "df_inv[\"Rotacion_Inventario\"] = (\n",
    "    df_inv[\"Total_Venta\"] / df_inv[\"Stock_Disponible\"]\n",
    ")\n",
    "\n",
    "# Reemplazar posibles NaN (productos sin ventas registradas) con 0\n",
    "df_inv[\"Rotacion_Inventario\"] = df_inv[\"Rotacion_Inventario\"].fillna(0)\n",
    "\n",
    "print(\"Inventarios con columna de rotación:\")\n",
    "print(df_inv.head())"
   ]
  },
  {
   "cell_type": "code",
   "execution_count": 28,
   "id": "8915b6d7-a5fb-4c35-8551-9475857f13e8",
   "metadata": {},
   "outputs": [
    {
     "name": "stdout",
     "output_type": "stream",
     "text": [
      "Inventarios críticos (<10% en ventas respecto al stock disponible):\n",
      "Empty DataFrame\n",
      "Columns: [ID_Tienda, Producto, Stock_Disponible, Fecha_Actualización, Total_Venta, Rotacion_Inventario, Pct_Ventas_vs_Stock]\n",
      "Index: []\n"
     ]
    }
   ],
   "source": [
    "# 1. Calcular el porcentaje de ventas sobre stock\n",
    "df_inv[\"Pct_Ventas_vs_Stock\"] = (\n",
    "    df_inv[\"Total_Venta\"] / df_inv[\"Stock_Disponible\"]\n",
    ")\n",
    "\n",
    "# 2. Filtrar inventarios críticos (<10%)\n",
    "inventarios_criticos = df_inv[df_inv[\"Pct_Ventas_vs_Stock\"] < 0.1]\n",
    "\n",
    "print(\"Inventarios críticos (<10% en ventas respecto al stock disponible):\")\n",
    "print(inventarios_criticos)"
   ]
  },
  {
   "cell_type": "code",
   "execution_count": 31,
   "id": "3f542ed4-8493-4c69-925b-282f005352a0",
   "metadata": {},
   "outputs": [
    {
     "name": "stdout",
     "output_type": "stream",
     "text": [
      "✅ Satisfacción promedio por tienda:\n",
      "   ID_Tienda  Satisfacción_Promedio\n",
      "0          1                   85.0\n",
      "1          2                   90.0\n",
      "2          3                   70.0\n",
      "3          4                   65.0\n",
      "4          5                   55.0\n",
      "\n",
      "⚠️ Tiendas con satisfacción menor al 60%:\n",
      "   ID_Tienda  Satisfacción_Promedio\n",
      "4          5                   55.0\n"
     ]
    }
   ],
   "source": [
    "# 1. Calcular la satisfacción promedio por tienda\n",
    "satisfaccion_promedio = df_sat.groupby(\"ID_Tienda\")[\"Satisfacción_Promedio\"].mean().reset_index()\n",
    "\n",
    "print(\"✅ Satisfacción promedio por tienda:\")\n",
    "print(satisfaccion_promedio)\n",
    "\n",
    "# 2. Filtrar tiendas con satisfacción < 60%\n",
    "tiendas_baja_satisfaccion = satisfaccion_promedio[satisfaccion_promedio[\"Satisfacción_Promedio\"] < 60]\n",
    "\n",
    "print(\"\\n⚠️ Tiendas con satisfacción menor al 60%:\")\n",
    "print(tiendas_baja_satisfaccion)\n",
    "\n"
   ]
  },
  {
   "cell_type": "code",
   "execution_count": 32,
   "id": "6b9b63fa-1202-41c5-9509-b149601b320e",
   "metadata": {},
   "outputs": [
    {
     "name": "stdout",
     "output_type": "stream",
     "text": [
      "✅ Análisis combinado de ventas y satisfacción:\n",
      "   ID_Tienda  Ventas_Totales  Satisfacción_Promedio\n",
      "0          1              35                   85.0\n",
      "1          2              55                   90.0\n",
      "2          3              50                   70.0\n",
      "3          4              60                   65.0\n",
      "4          5              50                   55.0\n",
      "\n",
      "⚠️ Tiendas con satisfacción menor al 60%:\n",
      "   ID_Tienda  Ventas_Totales  Satisfacción_Promedio\n",
      "4          5              50                   55.0\n",
      "👉 Tienda 5.0 tiene bajas ventas y baja satisfacción (55.0%). Recomendación: revisar calidad de producto, promociones y fidelización.\n"
     ]
    }
   ],
   "source": [
    "# 1. Ventas totales por tienda\n",
    "ventas_por_tienda = df_sales.groupby(\"ID_Tienda\")[\"Cantidad_Vendida\"].sum().reset_index()\n",
    "ventas_por_tienda.rename(columns={\"Cantidad_Vendida\": \"Ventas_Totales\"}, inplace=True)\n",
    "\n",
    "# 2. Satisfacción promedio por tienda\n",
    "satisfaccion_promedio = df_sat.groupby(\"ID_Tienda\")[\"Satisfacción_Promedio\"].mean().reset_index()\n",
    "\n",
    "# 3. Unir ambos DataFrames\n",
    "analisis = pd.merge(ventas_por_tienda, satisfaccion_promedio, on=\"ID_Tienda\")\n",
    "\n",
    "print(\"✅ Análisis combinado de ventas y satisfacción:\")\n",
    "print(analisis)\n",
    "\n",
    "# 4. Filtrar tiendas con satisfacción < 60%\n",
    "baja_satisfaccion = analisis[analisis[\"Satisfacción_Promedio\"] < 60]\n",
    "\n",
    "print(\"\\n⚠️ Tiendas con satisfacción menor al 60%:\")\n",
    "print(baja_satisfaccion)\n",
    "\n",
    "# 5. Recomendaciones automáticas simples\n",
    "for _, row in baja_satisfaccion.iterrows():\n",
    "    if row[\"Ventas_Totales\"] > analisis[\"Ventas_Totales\"].mean():\n",
    "        print(f\"👉 Tienda {row['ID_Tienda']} tiene ventas altas pero baja satisfacción ({row['Satisfacción_Promedio']}%). Recomendación: mejorar la experiencia del cliente (tiempos de espera, atención, postventa).\")\n",
    "    else:\n",
    "        print(f\"👉 Tienda {row['ID_Tienda']} tiene bajas ventas y baja satisfacción ({row['Satisfacción_Promedio']}%). Recomendación: revisar calidad de producto, promociones y fidelización.\")\n"
   ]
  },
  {
   "cell_type": "code",
   "execution_count": 33,
   "id": "03b90b3d-0b90-4f92-9383-a3a60ff618db",
   "metadata": {},
   "outputs": [
    {
     "name": "stdout",
     "output_type": "stream",
     "text": [
      "📊 Mediana de las ventas totales: 50.0\n",
      "📊 Desviación estándar de las ventas totales: 8.366600265340756\n"
     ]
    }
   ],
   "source": [
    "import numpy as np\n",
    "\n",
    "# 1. Calcular las ventas totales por tienda\n",
    "ventas_por_tienda = df_sales.groupby(\"ID_Tienda\")[\"Cantidad_Vendida\"].sum().reset_index()\n",
    "ventas_por_tienda.rename(columns={\"Cantidad_Vendida\": \"Ventas_Totales\"}, inplace=True)\n",
    "\n",
    "# 2. Convertir la columna Ventas_Totales en un array de NumPy\n",
    "ventas_array = ventas_por_tienda[\"Ventas_Totales\"].to_numpy()\n",
    "\n",
    "# 3. Calcular la mediana con NumPy\n",
    "mediana_ventas = np.median(ventas_array)\n",
    "\n",
    "# 4. Calcular la desviación estándar con NumPy\n",
    "desviacion_std_ventas = np.std(ventas_array)\n",
    "\n",
    "print(f\"📊 Mediana de las ventas totales: {mediana_ventas}\")\n",
    "print(f\"📊 Desviación estándar de las ventas totales: {desviacion_std_ventas}\")\n"
   ]
  },
  {
   "cell_type": "code",
   "execution_count": 34,
   "id": "d3f93bc8-af18-4cfd-af22-f1c54beb9c68",
   "metadata": {},
   "outputs": [
    {
     "name": "stdout",
     "output_type": "stream",
     "text": [
      "📈 Proyecciones de ventas futuras (12 meses):\n",
      "[54.16 48.84 55.42 62.74 48.04 48.04 63.21 56.42 46.07 54.54 46.12 46.1 ]\n"
     ]
    }
   ],
   "source": [
    "# Establecer semilla para reproducibilidad\n",
    "np.random.seed(42)\n",
    "\n",
    "# Parámetros: media y desviación estándar de las ventas actuales\n",
    "media_ventas = np.mean(ventas_array)\n",
    "desviacion_ventas = np.std(ventas_array)\n",
    "\n",
    "# Generar proyección de ventas futuras para 12 meses (ejemplo)\n",
    "proyecciones = np.random.normal(loc=media_ventas, scale=desviacion_ventas, size=12)\n",
    "\n",
    "print(\"📈 Proyecciones de ventas futuras (12 meses):\")\n",
    "print(proyecciones.round(2))\n"
   ]
  }
 ],
 "metadata": {
  "kernelspec": {
   "display_name": "Python 3 (ipykernel)",
   "language": "python",
   "name": "python3"
  },
  "language_info": {
   "codemirror_mode": {
    "name": "ipython",
    "version": 3
   },
   "file_extension": ".py",
   "mimetype": "text/x-python",
   "name": "python",
   "nbconvert_exporter": "python",
   "pygments_lexer": "ipython3",
   "version": "3.11.7"
  }
 },
 "nbformat": 4,
 "nbformat_minor": 5
}
