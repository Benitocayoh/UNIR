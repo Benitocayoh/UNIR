{
 "cells": [
  {
   "cell_type": "code",
   "execution_count": 1,
   "id": "b1d7568d-6970-4dd3-a082-30dd08262e53",
   "metadata": {},
   "outputs": [],
   "source": [
    "# calculadora_promedios.py\n",
    "\n",
    "def ingresar_calificaciones():\n",
    "    \"\"\"\n",
    "    Permite al usuario ingresar materias y calificaciones.\n",
    "    Retorna dos listas: materias y calificaciones.\n",
    "    \"\"\"\n",
    "    materias = []\n",
    "    calificaciones = []\n",
    "\n",
    "    while True:\n",
    "        materia = input(\"Ingrese el nombre de la materia (o escriba 'fin' para terminar): \").strip()\n",
    "        if materia.lower() == \"fin\":\n",
    "            break\n",
    "\n",
    "        # Validar calificación\n",
    "        while True:\n",
    "            try:\n",
    "                calificacion = float(input(f\"Ingrese la calificación para {materia} (0 a 10): \"))\n",
    "                if 0 <= calificacion <= 10:\n",
    "                    break\n",
    "                else:\n",
    "                    print(\"⚠️ La calificación debe estar entre 0 y 10.\")\n",
    "            except ValueError:\n",
    "                print(\"⚠️ Entrada no válida. Ingrese un número entre 0 y 10.\")\n",
    "\n",
    "        materias.append(materia)\n",
    "        calificaciones.append(calificacion)\n",
    "\n",
    "    return materias, calificaciones"
   ]
  },
  {
   "cell_type": "code",
   "execution_count": 2,
   "id": "f31a8436-f2ec-4828-93da-f9869734caeb",
   "metadata": {},
   "outputs": [],
   "source": [
    "def calcular_promedio(calificaciones):\n",
    "    \"\"\"Calcula el promedio de una lista de calificaciones.\"\"\"\n",
    "    if len(calificaciones) == 0:\n",
    "        return 0\n",
    "    return sum(calificaciones) / len(calificaciones)\n"
   ]
  },
  {
   "cell_type": "code",
   "execution_count": 3,
   "id": "420167da-6474-4dc6-8148-5207a34d5ba5",
   "metadata": {},
   "outputs": [],
   "source": [
    "def determinar_estado(calificaciones, umbral=5.0):\n",
    "    \"\"\"\n",
    "    Determina qué materias están aprobadas y reprobadas.\n",
    "    Retorna dos listas de índices: aprobadas y reprobadas.\n",
    "    \"\"\"\n",
    "    aprobadas = [i for i, nota in enumerate(calificaciones) if nota >= umbral]\n",
    "    reprobadas = [i for i, nota in enumerate(calificaciones) if nota < umbral]\n",
    "    return aprobadas, reprobadas"
   ]
  },
  {
   "cell_type": "code",
   "execution_count": 4,
   "id": "b3a9ebb5-fc04-41a4-ad4e-aba3852c1185",
   "metadata": {},
   "outputs": [],
   "source": [
    "def encontrar_extremos(calificaciones):\n",
    "    \"\"\"\n",
    "    Encuentra el índice de la calificación más alta y más baja.\n",
    "    Retorna (indice_max, indice_min).\n",
    "    \"\"\"\n",
    "    if len(calificaciones) == 0:\n",
    "        return None, None\n",
    "    indice_max = calificaciones.index(max(calificaciones))\n",
    "    indice_min = calificaciones.index(min(calificaciones))\n",
    "    return indice_max, indice_min"
   ]
  },
  {
   "cell_type": "code",
   "execution_count": 6,
   "id": "9dce261e-4991-4767-94c4-1bb7e9c9488f",
   "metadata": {},
   "outputs": [
    {
     "name": "stdout",
     "output_type": "stream",
     "text": [
      "📘 Bienvenido a la Calculadora de Promedios Escolares 📘\n",
      "\n"
     ]
    },
    {
     "name": "stdin",
     "output_type": "stream",
     "text": [
      "Ingrese el nombre de la materia (o escriba 'fin' para terminar):  Fisica\n",
      "Ingrese la calificación para Fisica (0 a 10):  4\n",
      "Ingrese el nombre de la materia (o escriba 'fin' para terminar):  Quimica\n",
      "Ingrese la calificación para Quimica (0 a 10):  9\n",
      "Ingrese el nombre de la materia (o escriba 'fin' para terminar):  Biologia\n",
      "Ingrese la calificación para Biologia (0 a 10):  5\n",
      "Ingrese el nombre de la materia (o escriba 'fin' para terminar):  Ciencias Ocultas\n",
      "Ingrese la calificación para Ciencias Ocultas (0 a 10):  5\n",
      "Ingrese el nombre de la materia (o escriba 'fin' para terminar):  fin\n"
     ]
    },
    {
     "name": "stdout",
     "output_type": "stream",
     "text": [
      "\n",
      "===== 📊 RESUMEN FINAL 📊 =====\n",
      "Fisica: 4.0\n",
      "Quimica: 9.0\n",
      "Biologia: 5.0\n",
      "Ciencias Ocultas: 5.0\n",
      "\n",
      "Promedio general: 5.75\n",
      "\n",
      "✅ Materias aprobadas:\n",
      "- Quimica (9.0)\n",
      "- Biologia (5.0)\n",
      "- Ciencias Ocultas (5.0)\n",
      "\n",
      "❌ Materias reprobadas:\n",
      "- Fisica (4.0)\n",
      "\n",
      "🏆 Mejor materia: Quimica (9.0)\n",
      "📉 Peor materia: Fisica (4.0)\n",
      "\n",
      "Gracias por usar la calculadora. ¡Éxitos en tus estudios! 🎓\n"
     ]
    }
   ],
   "source": [
    "def main():\n",
    "    print(\"📘 Bienvenido a la Calculadora de Promedios Escolares 📘\\n\")\n",
    "\n",
    "    materias, calificaciones = ingresar_calificaciones()\n",
    "\n",
    "    if len(materias) == 0:\n",
    "        print(\"⚠️ No se ingresaron materias. Programa finalizado.\")\n",
    "        return\n",
    "\n",
    "    promedio = calcular_promedio(calificaciones)\n",
    "    aprobadas, reprobadas = determinar_estado(calificaciones)\n",
    "    indice_max, indice_min = encontrar_extremos(calificaciones)\n",
    "\n",
    "    print(\"\\n===== 📊 RESUMEN FINAL 📊 =====\")\n",
    "    for i in range(len(materias)):\n",
    "        print(f\"{materias[i]}: {calificaciones[i]}\")\n",
    "\n",
    "    print(f\"\\nPromedio general: {promedio:.2f}\")\n",
    "\n",
    "    if aprobadas:\n",
    "        print(\"\\n✅ Materias aprobadas:\")\n",
    "        for i in aprobadas:\n",
    "            print(f\"- {materias[i]} ({calificaciones[i]})\")\n",
    "    else:\n",
    "        print(\"\\n❌ No hay materias aprobadas.\")\n",
    "\n",
    "    if reprobadas:\n",
    "        print(\"\\n❌ Materias reprobadas:\")\n",
    "        for i in reprobadas:\n",
    "            print(f\"- {materias[i]} ({calificaciones[i]})\")\n",
    "    else:\n",
    "        print(\"\\n✅ No hay materias reprobadas.\")\n",
    "\n",
    "    if indice_max is not None:\n",
    "        print(f\"\\n🏆 Mejor materia: {materias[indice_max]} ({calificaciones[indice_max]})\")\n",
    "    if indice_min is not None:\n",
    "        print(f\"📉 Peor materia: {materias[indice_min]} ({calificaciones[indice_min]})\")\n",
    "\n",
    "    print(\"\\nGracias por usar la calculadora. ¡Éxitos en tus estudios! 🎓\")\n",
    "\n",
    "\n",
    "if __name__ == \"__main__\":\n",
    "    main()"
   ]
  }
 ],
 "metadata": {
  "kernelspec": {
   "display_name": "Python 3 (ipykernel)",
   "language": "python",
   "name": "python3"
  },
  "language_info": {
   "codemirror_mode": {
    "name": "ipython",
    "version": 3
   },
   "file_extension": ".py",
   "mimetype": "text/x-python",
   "name": "python",
   "nbconvert_exporter": "python",
   "pygments_lexer": "ipython3",
   "version": "3.11.7"
  }
 },
 "nbformat": 4,
 "nbformat_minor": 5
}
